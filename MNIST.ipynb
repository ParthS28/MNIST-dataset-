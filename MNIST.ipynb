{
 "cells": [
  {
   "cell_type": "code",
   "execution_count": 12,
   "metadata": {},
   "outputs": [],
   "source": [
    "import tensorflow as tf\n",
    "import numpy as np\n",
    "import pandas as pd\n",
    "import matplotlib.pyplot as plt"
   ]
  },
  {
   "cell_type": "code",
   "execution_count": 13,
   "metadata": {},
   "outputs": [],
   "source": [
    "(x_train, y_train), (x_test, y_test) = tf.keras.datasets.mnist.load_data()\n",
    "x_train = x_train / 255\n",
    "x_test = x_test / 255"
   ]
  },
  {
   "cell_type": "code",
   "execution_count": 14,
   "metadata": {},
   "outputs": [
    {
     "name": "stdout",
     "output_type": "stream",
     "text": [
      "[[0.         0.         0.         0.         0.         0.\n",
      "  0.         0.         0.         0.         0.         0.\n",
      "  0.         0.         0.         0.         0.         0.\n",
      "  0.         0.         0.         0.         0.         0.\n",
      "  0.         0.         0.         0.        ]\n",
      " [0.         0.         0.         0.         0.         0.\n",
      "  0.         0.         0.         0.         0.         0.\n",
      "  0.         0.         0.         0.         0.         0.\n",
      "  0.         0.         0.         0.         0.         0.\n",
      "  0.         0.         0.         0.        ]\n",
      " [0.         0.         0.         0.         0.         0.\n",
      "  0.         0.         0.         0.         0.         0.\n",
      "  0.         0.         0.         0.         0.         0.\n",
      "  0.         0.         0.         0.         0.         0.\n",
      "  0.         0.         0.         0.        ]\n",
      " [0.         0.         0.         0.         0.         0.\n",
      "  0.         0.         0.         0.         0.         0.\n",
      "  0.         0.         0.         0.         0.         0.\n",
      "  0.         0.         0.         0.         0.         0.\n",
      "  0.         0.         0.         0.        ]\n",
      " [0.         0.         0.         0.         0.         0.\n",
      "  0.         0.         0.         0.         0.         0.\n",
      "  0.         0.         0.         0.         0.         0.\n",
      "  0.         0.         0.         0.         0.         0.\n",
      "  0.         0.         0.         0.        ]\n",
      " [0.         0.         0.         0.         0.         0.\n",
      "  0.         0.         0.         0.         0.         0.\n",
      "  0.01176471 0.07058824 0.07058824 0.07058824 0.49411765 0.53333333\n",
      "  0.68627451 0.10196078 0.65098039 1.         0.96862745 0.49803922\n",
      "  0.         0.         0.         0.        ]\n",
      " [0.         0.         0.         0.         0.         0.\n",
      "  0.         0.         0.11764706 0.14117647 0.36862745 0.60392157\n",
      "  0.66666667 0.99215686 0.99215686 0.99215686 0.99215686 0.99215686\n",
      "  0.88235294 0.6745098  0.99215686 0.94901961 0.76470588 0.25098039\n",
      "  0.         0.         0.         0.        ]\n",
      " [0.         0.         0.         0.         0.         0.\n",
      "  0.         0.19215686 0.93333333 0.99215686 0.99215686 0.99215686\n",
      "  0.99215686 0.99215686 0.99215686 0.99215686 0.99215686 0.98431373\n",
      "  0.36470588 0.32156863 0.32156863 0.21960784 0.15294118 0.\n",
      "  0.         0.         0.         0.        ]\n",
      " [0.         0.         0.         0.         0.         0.\n",
      "  0.         0.07058824 0.85882353 0.99215686 0.99215686 0.99215686\n",
      "  0.99215686 0.99215686 0.77647059 0.71372549 0.96862745 0.94509804\n",
      "  0.         0.         0.         0.         0.         0.\n",
      "  0.         0.         0.         0.        ]\n",
      " [0.         0.         0.         0.         0.         0.\n",
      "  0.         0.         0.31372549 0.61176471 0.41960784 0.99215686\n",
      "  0.99215686 0.80392157 0.04313725 0.         0.16862745 0.60392157\n",
      "  0.         0.         0.         0.         0.         0.\n",
      "  0.         0.         0.         0.        ]\n",
      " [0.         0.         0.         0.         0.         0.\n",
      "  0.         0.         0.         0.05490196 0.00392157 0.60392157\n",
      "  0.99215686 0.35294118 0.         0.         0.         0.\n",
      "  0.         0.         0.         0.         0.         0.\n",
      "  0.         0.         0.         0.        ]\n",
      " [0.         0.         0.         0.         0.         0.\n",
      "  0.         0.         0.         0.         0.         0.54509804\n",
      "  0.99215686 0.74509804 0.00784314 0.         0.         0.\n",
      "  0.         0.         0.         0.         0.         0.\n",
      "  0.         0.         0.         0.        ]\n",
      " [0.         0.         0.         0.         0.         0.\n",
      "  0.         0.         0.         0.         0.         0.04313725\n",
      "  0.74509804 0.99215686 0.2745098  0.         0.         0.\n",
      "  0.         0.         0.         0.         0.         0.\n",
      "  0.         0.         0.         0.        ]\n",
      " [0.         0.         0.         0.         0.         0.\n",
      "  0.         0.         0.         0.         0.         0.\n",
      "  0.1372549  0.94509804 0.88235294 0.62745098 0.42352941 0.00392157\n",
      "  0.         0.         0.         0.         0.         0.\n",
      "  0.         0.         0.         0.        ]\n",
      " [0.         0.         0.         0.         0.         0.\n",
      "  0.         0.         0.         0.         0.         0.\n",
      "  0.         0.31764706 0.94117647 0.99215686 0.99215686 0.46666667\n",
      "  0.09803922 0.         0.         0.         0.         0.\n",
      "  0.         0.         0.         0.        ]\n",
      " [0.         0.         0.         0.         0.         0.\n",
      "  0.         0.         0.         0.         0.         0.\n",
      "  0.         0.         0.17647059 0.72941176 0.99215686 0.99215686\n",
      "  0.58823529 0.10588235 0.         0.         0.         0.\n",
      "  0.         0.         0.         0.        ]\n",
      " [0.         0.         0.         0.         0.         0.\n",
      "  0.         0.         0.         0.         0.         0.\n",
      "  0.         0.         0.         0.0627451  0.36470588 0.98823529\n",
      "  0.99215686 0.73333333 0.         0.         0.         0.\n",
      "  0.         0.         0.         0.        ]\n",
      " [0.         0.         0.         0.         0.         0.\n",
      "  0.         0.         0.         0.         0.         0.\n",
      "  0.         0.         0.         0.         0.         0.97647059\n",
      "  0.99215686 0.97647059 0.25098039 0.         0.         0.\n",
      "  0.         0.         0.         0.        ]\n",
      " [0.         0.         0.         0.         0.         0.\n",
      "  0.         0.         0.         0.         0.         0.\n",
      "  0.         0.         0.18039216 0.50980392 0.71764706 0.99215686\n",
      "  0.99215686 0.81176471 0.00784314 0.         0.         0.\n",
      "  0.         0.         0.         0.        ]\n",
      " [0.         0.         0.         0.         0.         0.\n",
      "  0.         0.         0.         0.         0.         0.\n",
      "  0.15294118 0.58039216 0.89803922 0.99215686 0.99215686 0.99215686\n",
      "  0.98039216 0.71372549 0.         0.         0.         0.\n",
      "  0.         0.         0.         0.        ]\n",
      " [0.         0.         0.         0.         0.         0.\n",
      "  0.         0.         0.         0.         0.09411765 0.44705882\n",
      "  0.86666667 0.99215686 0.99215686 0.99215686 0.99215686 0.78823529\n",
      "  0.30588235 0.         0.         0.         0.         0.\n",
      "  0.         0.         0.         0.        ]\n",
      " [0.         0.         0.         0.         0.         0.\n",
      "  0.         0.         0.09019608 0.25882353 0.83529412 0.99215686\n",
      "  0.99215686 0.99215686 0.99215686 0.77647059 0.31764706 0.00784314\n",
      "  0.         0.         0.         0.         0.         0.\n",
      "  0.         0.         0.         0.        ]\n",
      " [0.         0.         0.         0.         0.         0.\n",
      "  0.07058824 0.67058824 0.85882353 0.99215686 0.99215686 0.99215686\n",
      "  0.99215686 0.76470588 0.31372549 0.03529412 0.         0.\n",
      "  0.         0.         0.         0.         0.         0.\n",
      "  0.         0.         0.         0.        ]\n",
      " [0.         0.         0.         0.         0.21568627 0.6745098\n",
      "  0.88627451 0.99215686 0.99215686 0.99215686 0.99215686 0.95686275\n",
      "  0.52156863 0.04313725 0.         0.         0.         0.\n",
      "  0.         0.         0.         0.         0.         0.\n",
      "  0.         0.         0.         0.        ]\n",
      " [0.         0.         0.         0.         0.53333333 0.99215686\n",
      "  0.99215686 0.99215686 0.83137255 0.52941176 0.51764706 0.0627451\n",
      "  0.         0.         0.         0.         0.         0.\n",
      "  0.         0.         0.         0.         0.         0.\n",
      "  0.         0.         0.         0.        ]\n",
      " [0.         0.         0.         0.         0.         0.\n",
      "  0.         0.         0.         0.         0.         0.\n",
      "  0.         0.         0.         0.         0.         0.\n",
      "  0.         0.         0.         0.         0.         0.\n",
      "  0.         0.         0.         0.        ]\n",
      " [0.         0.         0.         0.         0.         0.\n",
      "  0.         0.         0.         0.         0.         0.\n",
      "  0.         0.         0.         0.         0.         0.\n",
      "  0.         0.         0.         0.         0.         0.\n",
      "  0.         0.         0.         0.        ]\n",
      " [0.         0.         0.         0.         0.         0.\n",
      "  0.         0.         0.         0.         0.         0.\n",
      "  0.         0.         0.         0.         0.         0.\n",
      "  0.         0.         0.         0.         0.         0.\n",
      "  0.         0.         0.         0.        ]]\n",
      "(60000, 28, 28)\n"
     ]
    },
    {
     "data": {
      "image/png": "[encoded data removed]",
      "text/plain": [
       "<matplotlib.figure.Figure at 0x7fc5a00ce7b8>"
      ]
     },
     "metadata": {
      "needs_background": "light"
     },
     "output_type": "display_data"
    }
   ],
   "source": [
    "plt.imshow(x_train[0])\n",
    "plt.title(\"Digit {}\".format(y_train[0]))\n",
    "print(x_train[0])\n",
    "print(x_train.shape)"
   ]
  },
  {
   "cell_type": "code",
   "execution_count": 15,
   "metadata": {},
   "outputs": [
    {
     "name": "stdout",
     "output_type": "stream",
     "text": [
      "(60000, 10)\n",
      "(10000, 10)\n",
      "(60000, 784, 1)\n",
      "(60000, 784, 1)\n"
     ]
    }
   ],
   "source": [
    "y_train = tf.keras.utils.to_categorical(y_train)\n",
    "print(y_train.shape)\n",
    "y_test = tf.keras.utils.to_categorical(y_test)\n",
    "print(y_test.shape)\n",
    "x_train = x_train.reshape((60000, 784, 1))\n",
    "print(x_train.shape)\n",
    "x_test = x_test.reshape((10000, 784, 1))\n",
    "print(x_train.shape)"
   ]
  },
  {
   "cell_type": "code",
   "execution_count": 16,
   "metadata": {},
   "outputs": [],
   "source": [
    "def relU(a):\n",
    "    return np.maximum(0, a)\n",
    "\n",
    "def relU_prime(a):\n",
    "    return a > 0\n",
    "def relU__prime(a):\n",
    "    for i in range(len(a)):\n",
    "        a[i] = a[i] > 0\n",
    "    return a\n",
    "# Initialise weights\n",
    "w1 = np.random.rand(784, 16)\n",
    "w2 = np.random.rand(16, 16)\n",
    "w3 = np.random.rand(16, 10)\n",
    "# Initialise biases\n",
    "b1 = np.random.rand(1, 16)\n",
    "b2 = np.random.rand(1, 16)\n",
    "b3 = np.random.rand(1, 10)"
   ]
  },
  {
   "cell_type": "code",
   "execution_count": 17,
   "metadata": {},
   "outputs": [],
   "source": [
    "def softmax(s):\n",
    "    exps = np.exp(s - np.max(s, axis=1, keepdims=True))\n",
    "    return exps/np.sum(exps, axis=1, keepdims=True)\n",
    "\n",
    "def forward_prop(x, w1, w2, w3, b1, b2, b3):\n",
    "    z1 = np.dot(x.T, w1) + b1\n",
    "    a1 = np.zeros(z1.shape)\n",
    "    for i in range(len(z1)):\n",
    "        a1[i] = relU(z1[i])\n",
    "    z2 = np.dot(a1, w2) + b2\n",
    "    a2 = np.zeros(z2.shape)\n",
    "    for i in range(len(z2)):\n",
    "        a2[i] = relU(z2[i])\n",
    "    z3 = np.dot(a2, w3) + b3\n",
    "    a3 = np.zeros(z3.shape)\n",
    "    a3 = softmax(z3)\n",
    "    #for i in range(len(z3)):\n",
    "        #a3[i] = softmax(z3[i])\n",
    "    return a1, a2, a3\n",
    "\n",
    "def back_prop(x, y, a1, a2, a3, w1, w2, w3, b1, b2, b3, lr):\n",
    "    a3_delta = a3 - y\n",
    "    z2_delta = np.dot(a3_delta, w3.T)\n",
    "    a2_delta = z2_delta * relU__prime(a2)\n",
    "    z1_delta = np.dot(a2_delta, w2.T)\n",
    "    a1_delta = z1_delta * relU__prime(a1)\n",
    "    w3 -= lr * np.dot(a2.T, a3_delta)\n",
    "    b3 -= lr * np.sum(a3_delta)\n",
    "    w2 -= lr * np.dot(a1.T, a2_delta)\n",
    "    b2 -= lr * np.sum(a2_delta)\n",
    "    w1 -= lr * np.dot(x, a1_delta)\n",
    "    b1 -= lr * np.sum(a1_delta)\n",
    "    return w1, w2, w3, b1, b2, b3"
   ]
  },
  {
   "cell_type": "code",
   "execution_count": 18,
   "metadata": {},
   "outputs": [],
   "source": [
    "def predict(data, w1, w2, w3, b1, b2, b3):\n",
    "    x = data\n",
    "    a1, a2, a3 = forward_prop(x, w1, w2, w3, b1, b2, b3)\n",
    "    return a3.argmax()"
   ]
  },
  {
   "cell_type": "code",
   "execution_count": 19,
   "metadata": {},
   "outputs": [
    {
     "name": "stdout",
     "output_type": "stream",
     "text": [
      "2\n",
      "2\n"
     ]
    }
   ],
   "source": [
    "lr = 0.1\n",
    "\n",
    "for j in range(2000):\n",
    "    a1, a2, a3 = forward_prop(x_train[5], w1, w2, w3, b1, b2, b3)\n",
    "    w1, w2, w3, b1, b2, b3 = back_prop(x_train[5],y_train[5], a1, a2, a3, w1, w2, w3, b1, b2, b3, lr)\n",
    "    \n",
    "print(predict(x_train[5], w1, w2, w3, b1, b2, b3))\n",
    "print(y_train[5].argmax())"
   ]
  },
  {
   "cell_type": "code",
   "execution_count": null,
   "metadata": {
    "scrolled": true
   },
   "outputs": [],
   "source": []
  },
  {
   "cell_type": "code",
   "execution_count": null,
   "metadata": {},
   "outputs": [],
   "source": []
  },
  {
   "cell_type": "code",
   "execution_count": 20,
   "metadata": {},
   "outputs": [],
   "source": [
    "lr = 0.01\n",
    "for i in range(1000):\n",
    "    \n",
    "    for j in range(2000):\n",
    "        a1, a2, a3 = forward_prop(x_train[i], w1, w2, w3, b1, b2, b3)\n",
    "        w1, w2, w3, b1, b2, b3 = back_prop(x_train[i], y_train[i], a1, a2, a3, w1, w2, w3, b1, b2, b3, lr)"
   ]
  },
  {
   "cell_type": "code",
   "execution_count": null,
   "metadata": {},
   "outputs": [],
   "source": []
  },
  {
   "cell_type": "code",
   "execution_count": 21,
   "metadata": {},
   "outputs": [
    {
     "name": "stdout",
     "output_type": "stream",
     "text": [
      "4783\n"
     ]
    }
   ],
   "source": [
    "#Score after training with only 1000/60000 \n",
    "score = 0\n",
    "for i in range(10000):\n",
    "    yt = y_test[i].argmax()\n",
    "    yp = predict(x_test[i], w1, w2, w3, b1, b2, b3)\n",
    "    if(yp == yt):\n",
    "        score = score + 1\n",
    "print(score)"
   ]
  },
  {
   "cell_type": "code",
   "execution_count": 22,
   "metadata": {},
   "outputs": [],
   "source": [
    "lr = 0.01\n",
    "for i in range(1000, 2000):\n",
    "    \n",
    "    for j in range(2000):\n",
    "        a1, a2, a3 = forward_prop(x_train[i], w1, w2, w3, b1, b2, b3)\n",
    "        w1, w2, w3, b1, b2, b3 = back_prop(x_train[i], y_train[i], a1, a2, a3, w1, w2, w3, b1, b2, b3, lr)"
   ]
  },
  {
   "cell_type": "code",
   "execution_count": 23,
   "metadata": {},
   "outputs": [
    {
     "name": "stdout",
     "output_type": "stream",
     "text": [
      "6877\n"
     ]
    }
   ],
   "source": [
    "#Score after training with 2000/60000\n",
    "score = 0\n",
    "for i in range(10000):\n",
    "    yt = y_test[i].argmax()\n",
    "    yp = predict(x_test[i], w1, w2, w3, b1, b2, b3)\n",
    "    if(yp == yt):\n",
    "        score = score + 1\n",
    "print(score)"
   ]
  },
  {
   "cell_type": "code",
   "execution_count": 24,
   "metadata": {},
   "outputs": [],
   "source": [
    "lr = 0.01\n",
    "for i in range(2000, 6000):\n",
    "    \n",
    "    for j in range(2000):\n",
    "        a1, a2, a3 = forward_prop(x_train[i], w1, w2, w3, b1, b2, b3)\n",
    "        w1, w2, w3, b1, b2, b3 = back_prop(x_train[i], y_train[i], a1, a2, a3, w1, w2, w3, b1, b2, b3, lr)"
   ]
  },
  {
   "cell_type": "code",
   "execution_count": 25,
   "metadata": {},
   "outputs": [
    {
     "name": "stdout",
     "output_type": "stream",
     "text": [
      "8291\n"
     ]
    }
   ],
   "source": [
    "#Score after training with 6000/60000 \n",
    "score = 0\n",
    "for i in range(10000):\n",
    "    yt = y_test[i].argmax()\n",
    "    yp = predict(x_test[i], w1, w2, w3, b1, b2, b3)\n",
    "    if(yp == yt):\n",
    "        score = score + 1\n",
    "print(score)"
   ]
  },
  {
   "cell_type": "code",
   "execution_count": 26,
   "metadata": {},
   "outputs": [],
   "source": [
    "lr = 0.01\n",
    "for i in range(6000, 10000):\n",
    "    \n",
    "    for j in range(2000):\n",
    "        a1, a2, a3 = forward_prop(x_train[i], w1, w2, w3, b1, b2, b3)\n",
    "        w1, w2, w3, b1, b2, b3 = back_prop(x_train[i], y_train[i], a1, a2, a3, w1, w2, w3, b1, b2, b3, lr)"
   ]
  },
  {
   "cell_type": "code",
   "execution_count": 27,
   "metadata": {},
   "outputs": [
    {
     "name": "stdout",
     "output_type": "stream",
     "text": [
      "8635\n"
     ]
    }
   ],
   "source": [
    "#Score after training with 10000/60000\n",
    "score = 0\n",
    "for i in range(10000):\n",
    "    yt = y_test[i].argmax()\n",
    "    yp = predict(x_test[i], w1, w2, w3, b1, b2, b3)\n",
    "    if(yp == yt):\n",
    "        score = score + 1\n",
    "print(score)"
   ]
  },
  {
   "cell_type": "code",
   "execution_count": 28,
   "metadata": {},
   "outputs": [],
   "source": [
    "lr = 0.01\n",
    "for i in range(10000, 30000):\n",
    "    \n",
    "    for j in range(2000):\n",
    "        a1, a2, a3 = forward_prop(x_train[i], w1, w2, w3, b1, b2, b3)\n",
    "        w1, w2, w3, b1, b2, b3 = back_prop(x_train[i], y_train[i], a1, a2, a3, w1, w2, w3, b1, b2, b3, lr)"
   ]
  },
  {
   "cell_type": "code",
   "execution_count": 29,
   "metadata": {},
   "outputs": [
    {
     "name": "stdout",
     "output_type": "stream",
     "text": [
      "8707\n"
     ]
    }
   ],
   "source": [
    "#Score after training with 30000/60000\n",
    "score = 0\n",
    "for i in range(10000):\n",
    "    yt = y_test[i].argmax()\n",
    "    yp = predict(x_test[i], w1, w2, w3, b1, b2, b3)\n",
    "    if(yp == yt):\n",
    "        score = score + 1\n",
    "print(score)"
   ]
  },
  {
   "cell_type": "code",
   "execution_count": 30,
   "metadata": {},
   "outputs": [],
   "source": [
    "lr = 0.01\n",
    "for i in range(30000, 40000):\n",
    "    \n",
    "    for j in range(2000):\n",
    "        a1, a2, a3 = forward_prop(x_train[i], w1, w2, w3, b1, b2, b3)\n",
    "        w1, w2, w3, b1, b2, b3 = back_prop(x_train[i], y_train[i], a1, a2, a3, w1, w2, w3, b1, b2, b3, lr)"
   ]
  },
  {
   "cell_type": "code",
   "execution_count": 31,
   "metadata": {},
   "outputs": [
    {
     "name": "stdout",
     "output_type": "stream",
     "text": [
      "8502\n"
     ]
    }
   ],
   "source": [
    "#Score after training 40000/60000\n",
    "score = 0\n",
    "for i in range(10000):\n",
    "    yt = y_test[i].argmax()\n",
    "    yp = predict(x_test[i], w1, w2, w3, b1, b2, b3)\n",
    "    if(yp == yt):\n",
    "        score = score + 1\n",
    "print(score)"
   ]
  },
  {
   "cell_type": "code",
   "execution_count": 32,
   "metadata": {},
   "outputs": [],
   "source": [
    "lr = 0.01\n",
    "for i in range(40000, 50000):\n",
    "    \n",
    "    for j in range(2000):\n",
    "        a1, a2, a3 = forward_prop(x_train[i], w1, w2, w3, b1, b2, b3)\n",
    "        w1, w2, w3, b1, b2, b3 = back_prop(x_train[i], y_train[i], a1, a2, a3, w1, w2, w3, b1, b2, b3, lr)"
   ]
  },
  {
   "cell_type": "code",
   "execution_count": 33,
   "metadata": {},
   "outputs": [
    {
     "name": "stdout",
     "output_type": "stream",
     "text": [
      "8642\n"
     ]
    }
   ],
   "source": [
    "#Score after training 50000/60000\n",
    "score = 0\n",
    "for i in range(10000):\n",
    "    yt = y_test[i].argmax()\n",
    "    yp = predict(x_test[i], w1, w2, w3, b1, b2, b3)\n",
    "    if(yp == yt):\n",
    "        score = score + 1\n",
    "print(score)"
   ]
  },
  {
   "cell_type": "code",
   "execution_count": 34,
   "metadata": {},
   "outputs": [],
   "source": [
    "lr = 0.01\n",
    "for i in range(50000, 60000):\n",
    "    \n",
    "    for j in range(2000):\n",
    "        a1, a2, a3 = forward_prop(x_train[i], w1, w2, w3, b1, b2, b3)\n",
    "        w1, w2, w3, b1, b2, b3 = back_prop(x_train[i], y_train[i], a1, a2, a3, w1, w2, w3, b1, b2, b3, lr)"
   ]
  },
  {
   "cell_type": "code",
   "execution_count": 35,
   "metadata": {},
   "outputs": [
    {
     "name": "stdout",
     "output_type": "stream",
     "text": [
      "8852\n"
     ]
    }
   ],
   "source": [
    "#Score after training 60000/60000\n",
    "score = 0\n",
    "for i in range(10000):\n",
    "    yt = y_test[i].argmax()\n",
    "    yp = predict(x_test[i], w1, w2, w3, b1, b2, b3)\n",
    "    if(yp == yt):\n",
    "        score = score + 1\n",
    "print(score)"
   ]
  },
  {
   "cell_type": "code",
   "execution_count": null,
   "metadata": {},
   "outputs": [],
   "source": []
  }
 ],
 "metadata": {
  "kernelspec": {
   "display_name": "Python 3",
   "language": "python",
   "name": "python3"
  },
  "language_info": {
   "codemirror_mode": {
    "name": "ipython",
    "version": 3
   },
   "file_extension": ".py",
   "mimetype": "text/x-python",
   "name": "python",
   "nbconvert_exporter": "python",
   "pygments_lexer": "ipython3",
   "version": "3.6.9"
  }
 },
 "nbformat": 4,
 "nbformat_minor": 2
}
